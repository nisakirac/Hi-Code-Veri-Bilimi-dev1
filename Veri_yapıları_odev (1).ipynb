{
 "cells": [
  {
   "cell_type": "markdown",
   "id": "032d81b2",
   "metadata": {},
   "source": [
    "# 1\n",
    "x = 3 ----> floata çevirelim. Çevirdikten sonra beri tipinide yazdıralım.\n",
    "\n",
    "y = 4.5 -----> integere çevirelim. Çevirdikten sonra beri tipinide yazdıralım.\n",
    "\n",
    "z = \"8\" -----> integera çevirelim. Çevirdikten sonra beri tipinide yazdıralım.\n",
    "\n",
    "a = \"12\" -----> floata çevirelim. Çevirdikten sonra beri tipinide yazdıralım.\n",
    "\n",
    "b = \"46.8\" ------> integera çevirelim. Çevirdikten sonra beri tipinide yazdıralım."
   ]
  },
  {
   "cell_type": "code",
   "execution_count": 11,
   "id": "f1b735c0",
   "metadata": {},
   "outputs": [
    {
     "name": "stdout",
     "output_type": "stream",
     "text": [
      "x: 3.0 Tipi: <class 'float'>\n",
      "y: 4 Tipi: <class 'int'>\n",
      "z: 8 Tipi: <class 'int'>\n",
      "a: 12.0 Tipi: <class 'float'>\n",
      "b: 46 Tipi: <class 'int'>\n"
     ]
    }
   ],
   "source": [
    "# x = 3 ----> floata çevirelim.\n",
    "x=3\n",
    "x=float(x)\n",
    "print(\"x:\",x,\"Tipi:\",type(x))\n",
    "\n",
    "# y = 4.5 -----> integere çevirelim.\n",
    "y=4.5\n",
    "y=int(y)\n",
    "print(\"y:\",y,\"Tipi:\",type(y))\n",
    "\n",
    "# z = \"8\" -----> integera çevirelim.\n",
    "z=8\n",
    "z=int(z)\n",
    "print(\"z:\",z,\"Tipi:\",type(z))\n",
    "\n",
    "# a = \"12\" -----> floata çevirelim.\n",
    "a = \"12\"\n",
    "a = float(a)\n",
    "print(\"a:\", a, \"Tipi:\", type(a))\n",
    "\n",
    "# b = \"46.8\" ------> integera çevirelim.\n",
    "b = \"46.8\"\n",
    "b = int(float(b))  # String'den önce float'a, sonra int'e çevirdik.\n",
    "print(\"b:\", b, \"Tipi:\", type(b))"
   ]
  },
  {
   "cell_type": "markdown",
   "id": "95509718",
   "metadata": {},
   "source": [
    "# 2 \n",
    "İsimlerden oluşan üç değişkene yaş değerleri atanır. Belirlenen üç değişken birbiriyle karşılaştırma operatörleri ile karşılaştırılır. Bu karşılaştırmalara mantıksal operatörler de eklenir."
   ]
  },
  {
   "cell_type": "code",
   "execution_count": 21,
   "id": "50f77b4f",
   "metadata": {},
   "outputs": [
    {
     "name": "stdout",
     "output_type": "stream",
     "text": [
      "Ali Ayşe'den küçük mü? True\n",
      "Veli'nin yaşı 20'den büyük ve Ayşe'nin yaşından küçük mü? True\n",
      "Ali'nin yaşı 25'ten büyük ve veliden küçük mü? False\n"
     ]
    }
   ],
   "source": [
    "# İsimlerden oluşan değişkenlere yaş değerleri atayalım\n",
    "ali = 25\n",
    "ayşe = 30\n",
    "veli = 22\n",
    "\n",
    "# Karşılaştırma ve mantıksal operatörler\n",
    "print(\"Ali Ayşe'den küçük mü?\", ali<ayşe)\n",
    "print(\"Veli'nin yaşı 20'den büyük ve Ayşe'nin yaşından küçük mü?\", (veli > 20) and (veli < ayşe))\n",
    "print(\"Ali'nin yaşı 25'ten büyük ve veliden küçük mü?\",(ali<25)and(ali<veli))"
   ]
  },
  {
   "cell_type": "markdown",
   "id": "a1a0eb92",
   "metadata": {},
   "source": [
    "# 3\n",
    "Kullanıcıdan iki değer girmesini istenir. Girilen değerlerin toplama, çıkarma, çarpma, bölme sonuçlarını yazdırılır."
   ]
  },
  {
   "cell_type": "code",
   "execution_count": 23,
   "id": "c361e45a",
   "metadata": {},
   "outputs": [
    {
     "name": "stdin",
     "output_type": "stream",
     "text": [
      "Birinci sayıyı girin:  5\n",
      "İkinci sayıyı girin:  4\n"
     ]
    },
    {
     "name": "stdout",
     "output_type": "stream",
     "text": [
      "Toplama: 9.0\n",
      "Çıkarma: 1.0\n",
      "Çarpma: 20.0\n",
      "Bölme: 1.25\n"
     ]
    }
   ],
   "source": [
    "# Kullanıcıdan iki sayı alalım\n",
    "sayi1 = float(input(\"Birinci sayıyı girin: \"))\n",
    "sayi2 = float(input(\"İkinci sayıyı girin: \"))\n",
    "\n",
    "# İşlemleri gerçekleştirelim\n",
    "toplam = sayi1 + sayi2\n",
    "cikarma = sayi1 - sayi2\n",
    "carpma = sayi1 * sayi2\n",
    "# Bölme işlemi için sıfıra bölme kontrolü yapalım\n",
    "if sayi2 != 0:\n",
    "    bolme = sayi1 / sayi2\n",
    "else:\n",
    "    bolme = \"Tanımsız (0'a bölünemez)\"\n",
    "\n",
    "# Sonuçları yazdıralım\n",
    "print(f\"Toplama: {toplam}\")\n",
    "print(f\"Çıkarma: {cikarma}\")\n",
    "print(f\"Çarpma: {carpma}\")\n",
    "print(f\"Bölme: {bolme}\")\n"
   ]
  },
  {
   "cell_type": "markdown",
   "id": "060b0bea",
   "metadata": {},
   "source": [
    "# 4\n",
    "Kullanıcıdan isim, yaş, şehir ve meslek bilgilerini istenir ve cevaplarını yazdırılır."
   ]
  },
  {
   "cell_type": "code",
   "execution_count": 27,
   "id": "6f5dea59",
   "metadata": {},
   "outputs": [
    {
     "name": "stdin",
     "output_type": "stream",
     "text": [
      "Adınız nedir?  Nisa\n",
      "Yaşınız kaç?  25\n",
      "Hangi şehirde yaşıyorsunuz?  İstanbul\n",
      "Mesleğiniz nedir?  Yazılım Mühendisi\n"
     ]
    },
    {
     "name": "stdout",
     "output_type": "stream",
     "text": [
      "\n",
      "Girilen Bilgiler:\n",
      "İsim: Nisa\n",
      "Yaş: 25\n",
      "Şehir: İstanbul\n",
      "Meslek: Yazılım Mühendisi\n"
     ]
    }
   ],
   "source": [
    "# Kullanıcıdan bilgileri alalım\n",
    "isim = input(\"Adınız nedir? \")\n",
    "yas = int(input(\"Yaşınız kaç? \"))\n",
    "sehir = input(\"Hangi şehirde yaşıyorsunuz? \")\n",
    "meslek = input(\"Mesleğiniz nedir? \")\n",
    "\n",
    "\n",
    "# Alınan bilgileri yazdıralım\n",
    "print(\"\\nGirilen Bilgiler:\")\n",
    "print(f\"İsim: {isim}\")\n",
    "print(f\"Yaş: {yas}\")\n",
    "print(f\"Şehir: {sehir}\")\n",
    "print(f\"Meslek: {meslek}\")\n"
   ]
  },
  {
   "cell_type": "markdown",
   "id": "55e1a34e",
   "metadata": {},
   "source": [
    "# 5\n",
    "\"Hi-Kod Veri Bilimi Atölyesi\" ifadesini bir değişkene tanımlanır.\n",
    "\n",
    "\n",
    " 1. İfadedeki her bir kelimeyi (\"Hi-Kod\", \"Veri\", \"Bilimi\", \"Atölyesi\") değişken içinden seçilir. \n",
    " 2. İfadeyi hepsini büyük harf olacak hale çevrilir. (\"HI-KOD VERİ BİLİMİ ATÖLYESİ\") \n",
    " 3. İfadeyi hepsini büyük harf olacak hale çevrilir.(\"hi-kod veri bilimi atölyesi\") \n",
    "\n",
    "\"0123456789\" ifadesindeki yalnızca çift sayıları ve yalnızca tek sayıları seçilir. (\"02468\", \"13579\")"
   ]
  },
  {
   "cell_type": "code",
   "execution_count": 31,
   "id": "0fc1bc40",
   "metadata": {},
   "outputs": [
    {
     "name": "stdout",
     "output_type": "stream",
     "text": [
      "Her bir kelime: ['Hi-Kod', 'Veri', 'Bilimi', 'Atölyesi']\n",
      "Büyük harflerle ifade: HI-KOD VERI BILIMI ATÖLYESI\n",
      "Küçük harflerle ifade: hi-kod veri bilimi atölyesi\n",
      "Çift sayılar: 02468\n",
      "Tek sayılar: 13579\n"
     ]
    }
   ],
   "source": [
    "# \"Hi-Kod Veri Bilimi Atölyesi\" ifadesini bir değişkene tanımlayalım\n",
    "metin = \"Hi-Kod Veri Bilimi Atölyesi\"\n",
    "\n",
    "# İfadedeki her bir kelimeyi seçelim\n",
    "\n",
    "kelimeler = metin.split()  # Boşluklardan bölerek her kelimeyi listeye alır\n",
    "print(\"Her bir kelime:\", kelimeler)\n",
    "\n",
    "# İfadeyi tamamen büyük harfe çevirelim\n",
    "buyuk_harf = metin.upper()\n",
    "print(\"Büyük harflerle ifade:\", buyuk_harf)\n",
    "\n",
    "# İfadeyi tamamen küçük harfe çevirelim\n",
    "kucuk_harf = metin.lower()\n",
    "print(\"Küçük harflerle ifade:\", kucuk_harf)\n",
    "\n",
    "\n",
    "# \"0123456789\" içinden yalnızca çift ve tek sayıları seçelim\n",
    "sayi_dizisi = \"0123456789\"\n",
    "cift_sayilar = \"\".join([sayi for sayi in sayi_dizisi if int(sayi) % 2 == 0])  # Çift sayıları seçer\n",
    "tek_sayilar = \"\".join([sayi for sayi in sayi_dizisi if int(sayi) % 2 != 0])  # Tek sayıları seçer\n",
    "print(\"Çift sayılar:\", cift_sayilar)\n",
    "print(\"Tek sayılar:\", tek_sayilar)"
   ]
  },
  {
   "cell_type": "code",
   "execution_count": null,
   "id": "679f9a67-344c-4f15-a2af-e8e340832760",
   "metadata": {},
   "outputs": [],
   "source": []
  }
 ],
 "metadata": {
  "kernelspec": {
   "display_name": "Python [conda env:base] *",
   "language": "python",
   "name": "conda-base-py"
  },
  "language_info": {
   "codemirror_mode": {
    "name": "ipython",
    "version": 3
   },
   "file_extension": ".py",
   "mimetype": "text/x-python",
   "name": "python",
   "nbconvert_exporter": "python",
   "pygments_lexer": "ipython3",
   "version": "3.12.7"
  }
 },
 "nbformat": 4,
 "nbformat_minor": 5
}
